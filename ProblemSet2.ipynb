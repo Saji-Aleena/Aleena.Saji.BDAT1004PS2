{
 "cells": [
  {
   "cell_type": "markdown",
   "id": "3b72f3aa",
   "metadata": {},
   "source": [
    "Problem Set 2"
   ]
  },
  {
   "cell_type": "markdown",
   "id": "7aa4adc5",
   "metadata": {},
   "source": [
    "  "
   ]
  },
  {
   "cell_type": "markdown",
   "id": "f22516a5",
   "metadata": {},
   "source": [
    "Question 1:"
   ]
  },
  {
   "cell_type": "code",
   "execution_count": 2,
   "id": "a88ff9d9",
   "metadata": {},
   "outputs": [],
   "source": [
    "a = 0\n",
    "\n",
    "def b():\n",
    "    global a  # a is a global variable\n",
    "    a = c(a)\n",
    "\n",
    "def c(a):\n",
    "    return a + 2"
   ]
  },
  {
   "cell_type": "code",
   "execution_count": 3,
   "id": "581fb949",
   "metadata": {},
   "outputs": [],
   "source": [
    "#Since a is global variable, the value gets updated\n",
    "b()        #a=2\n",
    "b()        #a=4\n",
    "b()        #a=6"
   ]
  },
  {
   "cell_type": "code",
   "execution_count": 4,
   "id": "611854b9",
   "metadata": {},
   "outputs": [
    {
     "data": {
      "text/plain": [
       "6"
      ]
     },
     "execution_count": 4,
     "metadata": {},
     "output_type": "execute_result"
    }
   ],
   "source": [
    "a"
   ]
  },
  {
   "cell_type": "markdown",
   "id": "012a7bc6",
   "metadata": {},
   "source": [
    "  "
   ]
  },
  {
   "cell_type": "markdown",
   "id": "541ac87a",
   "metadata": {},
   "source": [
    "Question 2:"
   ]
  },
  {
   "cell_type": "code",
   "execution_count": 7,
   "id": "64bc8f42",
   "metadata": {},
   "outputs": [],
   "source": [
    "def file_length(file_name):\n",
    "    try:        \n",
    "        file = open(file_name)\n",
    "        contents = file.read()\n",
    "        file.close()\n",
    "        print(len(contents))\n",
    "    except:\n",
    "        print(\"File {0} not found.\".format(file_name))"
   ]
  },
  {
   "cell_type": "code",
   "execution_count": 8,
   "id": "67e88b07",
   "metadata": {},
   "outputs": [
    {
     "name": "stdout",
     "output_type": "stream",
     "text": [
      "9\n"
     ]
    }
   ],
   "source": [
    "file_length('practice.txt')"
   ]
  },
  {
   "cell_type": "code",
   "execution_count": 9,
   "id": "010ee018",
   "metadata": {},
   "outputs": [
    {
     "name": "stdout",
     "output_type": "stream",
     "text": [
      "File ractice.txt not found.\n"
     ]
    }
   ],
   "source": [
    "file_length('ractice.txt')"
   ]
  },
  {
   "cell_type": "markdown",
   "id": "1adf95de",
   "metadata": {},
   "source": [
    "  "
   ]
  },
  {
   "cell_type": "markdown",
   "id": "ca83f533",
   "metadata": {},
   "source": [
    "Question 3:"
   ]
  },
  {
   "cell_type": "code",
   "execution_count": 10,
   "id": "e49d4b75",
   "metadata": {},
   "outputs": [],
   "source": [
    "class Marsupial():\n",
    "    \n",
    "    def __init__(self):\n",
    "        self.pouch=[]\n",
    "    \n",
    "    def put_in_pouch(self,elt):\n",
    "        self.elt=elt\n",
    "        self.pouch.append(self.elt)\n",
    "    \n",
    "    def pouch_contents(self):    \n",
    "        print(self.pouch) \n"
   ]
  },
  {
   "cell_type": "code",
   "execution_count": 11,
   "id": "472bb115",
   "metadata": {},
   "outputs": [
    {
     "name": "stdout",
     "output_type": "stream",
     "text": [
      "['doll', 'firetruck', 'kitten']\n"
     ]
    }
   ],
   "source": [
    "m=Marsupial()\n",
    "m.put_in_pouch('doll')\n",
    "m.put_in_pouch('firetruck')\n",
    "m.put_in_pouch('kitten')\n",
    "m.pouch_contents()"
   ]
  },
  {
   "cell_type": "code",
   "execution_count": 12,
   "id": "6526f563",
   "metadata": {},
   "outputs": [],
   "source": [
    "#subclass\n",
    "\n",
    "class Kangaroo(Marsupial):\n",
    "   \n",
    "    def __init__(self,x,y):\n",
    "        super().__init__()\n",
    "        self.x=x\n",
    "        self.y=y\n",
    "        \n",
    "    \n",
    "    def jump(self,dx,dy):\n",
    "        self.x=self.x + dx\n",
    "        self.y=self.y + dy\n",
    "        \n",
    "    def __str__(self):\n",
    "         return(\"I am a Kangaroo located at coordinates ({},{})\".format(self.x,self.y))"
   ]
  },
  {
   "cell_type": "code",
   "execution_count": 13,
   "id": "af61db56",
   "metadata": {},
   "outputs": [
    {
     "name": "stdout",
     "output_type": "stream",
     "text": [
      "I am a Kangaroo located at coordinates (0,0)\n"
     ]
    }
   ],
   "source": [
    "k = Kangaroo(0,0)\n",
    "print(k)"
   ]
  },
  {
   "cell_type": "code",
   "execution_count": 14,
   "id": "41c92017",
   "metadata": {},
   "outputs": [
    {
     "name": "stdout",
     "output_type": "stream",
     "text": [
      "['doll', 'firetruck', 'kitten']\n"
     ]
    }
   ],
   "source": [
    "k.put_in_pouch('doll')\n",
    "k.put_in_pouch('firetruck')\n",
    "k.put_in_pouch('kitten')\n",
    "k.pouch_contents()"
   ]
  },
  {
   "cell_type": "code",
   "execution_count": 15,
   "id": "8ef3ce65",
   "metadata": {},
   "outputs": [
    {
     "name": "stdout",
     "output_type": "stream",
     "text": [
      "I am a Kangaroo located at coordinates (3,0)\n"
     ]
    }
   ],
   "source": [
    "k.jump(1,0)\n",
    "k.jump(1,0)\n",
    "k.jump(1,0)\n",
    "print(k)"
   ]
  },
  {
   "cell_type": "markdown",
   "id": "cda8534e",
   "metadata": {},
   "source": [
    "  "
   ]
  },
  {
   "cell_type": "markdown",
   "id": "deb600f9",
   "metadata": {},
   "source": [
    "Question 4: "
   ]
  },
  {
   "cell_type": "code",
   "execution_count": 23,
   "id": "c8688a85",
   "metadata": {},
   "outputs": [],
   "source": [
    "# Write function collatz() that takes a positive integer x as input and prints the\n",
    "# Collatz sequence starting at x. A Collatz sequence is obtained by repeatedly applying\n",
    "# this rule to the previous number x in the sequence:\n",
    "# x = {\n",
    "# 𝑥/2 𝑖𝑓 𝑥 𝑖𝑠 𝑒𝑣𝑒𝑛\n",
    "# 3𝑥 + 1 𝑖𝑓 𝑥 𝑖𝑠 𝑜𝑑𝑑\n",
    "# Your function should stop when the sequence gets to number 1. Your\n",
    "# implementation must be recursive, without any loops."
   ]
  },
  {
   "cell_type": "code",
   "execution_count": 24,
   "id": "7fc1a55b",
   "metadata": {},
   "outputs": [],
   "source": [
    "def collatz(num):\n",
    "    while True:\n",
    "        print(num)\n",
    "        if(num==1):\n",
    "            break   \n",
    "        if num%2==0:\n",
    "            num=num//2\n",
    "        else:\n",
    "            num=3*num+1\n"
   ]
  },
  {
   "cell_type": "code",
   "execution_count": 25,
   "id": "c8be0939",
   "metadata": {},
   "outputs": [
    {
     "name": "stdout",
     "output_type": "stream",
     "text": [
      "1\n"
     ]
    }
   ],
   "source": [
    "collatz(1)"
   ]
  },
  {
   "cell_type": "code",
   "execution_count": 26,
   "id": "b068cb9f",
   "metadata": {},
   "outputs": [
    {
     "name": "stdout",
     "output_type": "stream",
     "text": [
      "10\n",
      "5\n",
      "16\n",
      "8\n",
      "4\n",
      "2\n",
      "1\n"
     ]
    }
   ],
   "source": [
    "collatz(10)"
   ]
  },
  {
   "cell_type": "markdown",
   "id": "f4539b2e",
   "metadata": {},
   "source": [
    "  "
   ]
  },
  {
   "cell_type": "markdown",
   "id": "c2609053",
   "metadata": {},
   "source": [
    "Question 5:"
   ]
  },
  {
   "cell_type": "code",
   "execution_count": 17,
   "id": "7ba32aba",
   "metadata": {},
   "outputs": [],
   "source": [
    "# Write a recursive method binary() that takes a non-negative\n",
    "# integer n and prints the binary representation of integer n."
   ]
  },
  {
   "cell_type": "code",
   "execution_count": 18,
   "id": "e07fdfd9",
   "metadata": {},
   "outputs": [],
   "source": [
    "#recursive method\n",
    "\n",
    "rem=''\n",
    "def bin(num):\n",
    "    r=num%2\n",
    "    print(r,end='')\n",
    "    num=num//2\n",
    "    if num>0:\n",
    "        bin(num)\n"
   ]
  },
  {
   "cell_type": "code",
   "execution_count": 19,
   "id": "42ab29a1",
   "metadata": {},
   "outputs": [
    {
     "name": "stdout",
     "output_type": "stream",
     "text": [
      "0"
     ]
    }
   ],
   "source": [
    "bin(0)"
   ]
  },
  {
   "cell_type": "code",
   "execution_count": 20,
   "id": "f5978349",
   "metadata": {},
   "outputs": [
    {
     "name": "stdout",
     "output_type": "stream",
     "text": [
      "1"
     ]
    }
   ],
   "source": [
    "bin(1)"
   ]
  },
  {
   "cell_type": "code",
   "execution_count": 21,
   "id": "e18d0e2c",
   "metadata": {},
   "outputs": [
    {
     "name": "stdout",
     "output_type": "stream",
     "text": [
      "11"
     ]
    }
   ],
   "source": [
    "bin(3)"
   ]
  },
  {
   "cell_type": "code",
   "execution_count": 22,
   "id": "2ad8bfc7",
   "metadata": {},
   "outputs": [
    {
     "name": "stdout",
     "output_type": "stream",
     "text": [
      "1001"
     ]
    }
   ],
   "source": [
    "bin(9)"
   ]
  },
  {
   "cell_type": "markdown",
   "id": "6eaca177",
   "metadata": {},
   "source": [
    "  "
   ]
  },
  {
   "cell_type": "markdown",
   "id": "7ea5a670",
   "metadata": {},
   "source": [
    "Question 6:"
   ]
  },
  {
   "cell_type": "code",
   "execution_count": 61,
   "id": "df9f421f",
   "metadata": {},
   "outputs": [],
   "source": [
    "# Implement a class named HeadingParser that can be used to parse an HTML\n",
    "# document, and retrieve and print all the headings in the document. You should\n",
    "# implement your class as a subclass of HTMLParser, defined in Standard Library\n",
    "# module html.parser. When fed a string containing HTML code, your class should\n",
    "# print the headings, one per line and in the order in which they appear in the\n",
    "# document. Each heading should be indented as follows: an h1 heading should have "
   ]
  },
  {
   "cell_type": "code",
   "execution_count": 95,
   "id": "cc4ebd88",
   "metadata": {},
   "outputs": [],
   "source": [
    "infile = open('w3c.html') \n",
    "content = infile.read() \n",
    "infile.close() \n",
    "\n",
    "\n",
    "from html.parser import HTMLParser\n",
    "\n",
    "#Implementing class HeadingParser as a subclass of HTMLParser\n",
    "class HeadingParser(HTMLParser):\n",
    "    def handle_starttag(self, tag, attrs):\n",
    "        self.tag = tag\n",
    "        \n",
    "        \n",
    "    #function to get the indent and content\n",
    "    def handle_data(self, data):\n",
    "        if self.tag in {'h1','h2','h3','h4','h5','h6'}:\n",
    "            indent = int(self.tag[1:2])-1\n",
    "            print(' '*indent+data)\n",
    "            \n",
    "heading_parser = HeadingParser()"
   ]
  },
  {
   "cell_type": "code",
   "execution_count": 96,
   "id": "0f748e5a",
   "metadata": {},
   "outputs": [
    {
     "name": "stdout",
     "output_type": "stream",
     "text": [
      "W3C Mission\n",
      "\n",
      "\n",
      " Principles\n",
      " \n",
      "\n"
     ]
    }
   ],
   "source": [
    "heading_parser.feed(content)"
   ]
  },
  {
   "cell_type": "markdown",
   "id": "9344369d",
   "metadata": {},
   "source": [
    "  "
   ]
  },
  {
   "cell_type": "markdown",
   "id": "22bb1dfb",
   "metadata": {},
   "source": [
    "Question 7:"
   ]
  },
  {
   "cell_type": "code",
   "execution_count": 60,
   "id": "3bca832a",
   "metadata": {},
   "outputs": [],
   "source": [
    "# Implement recursive function webdir() that takes as input: a URL (as a string) and\n",
    "# non-negative integers depth and indent. Your function should visit every web\n",
    "# page reachable from the starting URL web page in depth clicks or less, and print\n",
    "# each web page's URL. As shown below, indentation, specified by indent, should\n",
    "# be used to indicate the depth of a URL."
   ]
  },
  {
   "cell_type": "code",
   "execution_count": 86,
   "id": "50924e19",
   "metadata": {},
   "outputs": [],
   "source": [
    "from urllib.parse import urljoin\n",
    "from html.parser import HTMLParser\n",
    "from urllib.request import urlopen\n",
    "\n",
    "visited = set() \n",
    "\n",
    "depth=2\n",
    "# recursive function\n",
    "def webdir(url,depth,indent=0):\n",
    "    \n",
    "\n",
    "    # add url to set of visited pages\n",
    "    global visited     \n",
    "    visited.add(url)\n",
    "\n",
    "    # returns a list of hyperlink URLs in web page url \n",
    "    links = list_url(url)\n",
    "\n",
    "    # recursively continue crawl from every link in links\n",
    "    for link in links:\n",
    "        # follow link only if not visited\n",
    "        if link not in visited:\n",
    "            try:\n",
    "                webdir(link,depth)\n",
    "            except:\n",
    "                pass\n",
    "\n",
    "\n",
    "\n",
    "class Collector(HTMLParser):\n",
    "    #collects hyperlink URLs into a list\n",
    "\n",
    "    def __init__(self, url):\n",
    "        \n",
    "        HTMLParser.__init__(self)\n",
    "        self.url = url\n",
    "        self.links = []\n",
    "\n",
    "   #collects hyperlink URLs\n",
    "    def handle_starttag(self, tag, attrs):\n",
    "        \n",
    "        if tag == 'a':\n",
    "            for attr in attrs:\n",
    "                if attr[0] == 'href':\n",
    "                    # constructing absolute URL\n",
    "                    absolute = urljoin(self.url, attr[1])\n",
    "                    if absolute[:4] == 'http': # collecting HTTP URLs\n",
    "                        self.links.append(absolute)\n",
    "    \n",
    "   #returns hyperlinks URLs \n",
    "    def getLinks(self):\n",
    "        \n",
    "        return self.links\n",
    "    \n",
    "\n",
    "\n",
    "def list_url(url):\n",
    "    \n",
    "    indent=0\n",
    "    n=depth\n",
    "    print('{:45}'.format(url))\n",
    "    \n",
    "    infile = urlopen(url) \n",
    "    content = infile.read() \n",
    "    content = content.decode()\n",
    "    collector = Collector(url)\n",
    "    collector.feed(content)\n",
    "    collector.getLinks()\n",
    "    \n",
    "    urls = collector.getLinks()\n",
    "    \n",
    "    for link in urls:\n",
    "        if(n<1):\n",
    "            continue\n",
    "        indent+=1\n",
    "        n-=1\n",
    "        print('{} {:10}'.format(\" \"*indent,link))\n",
    "\n",
    "    \n",
    "    return urls\n"
   ]
  },
  {
   "cell_type": "code",
   "execution_count": 87,
   "id": "1ffb8a47",
   "metadata": {},
   "outputs": [
    {
     "name": "stdout",
     "output_type": "stream",
     "text": [
      "http://reed.cs.depaul.edu/lperkovic/one.html \n",
      "  http://reed.cs.depaul.edu/lperkovic/two.html\n",
      "   http://reed.cs.depaul.edu/lperkovic/three.html\n",
      "http://reed.cs.depaul.edu/lperkovic/two.html \n",
      "  http://reed.cs.depaul.edu/lperkovic/four.html\n",
      "http://reed.cs.depaul.edu/lperkovic/four.html\n",
      "  http://reed.cs.depaul.edu/lperkovic/five.html\n",
      "http://reed.cs.depaul.edu/lperkovic/five.html\n",
      "  http://reed.cs.depaul.edu/lperkovic/four.html\n",
      "   http://reed.cs.depaul.edu/lperkovic/one.html\n",
      "http://reed.cs.depaul.edu/lperkovic/three.html\n",
      "  http://reed.cs.depaul.edu/lperkovic/four.html\n"
     ]
    }
   ],
   "source": [
    "webdir('http://reed.cs.depaul.edu/lperkovic/one.html',depth,0)"
   ]
  },
  {
   "cell_type": "markdown",
   "id": "969ea486",
   "metadata": {},
   "source": [
    "Question 8:"
   ]
  },
  {
   "cell_type": "code",
   "execution_count": 31,
   "id": "7cdb3506",
   "metadata": {},
   "outputs": [],
   "source": [
    "# Executing SQL in Jupiter: "
   ]
  },
  {
   "cell_type": "code",
   "execution_count": 32,
   "id": "8a66c681",
   "metadata": {},
   "outputs": [],
   "source": [
    "# Installed using: !pip install ipython-sql\n",
    "# Loaded using:\n",
    "%load_ext sql"
   ]
  },
  {
   "cell_type": "code",
   "execution_count": 33,
   "id": "68438421",
   "metadata": {},
   "outputs": [],
   "source": [
    "%sql sqlite://"
   ]
  },
  {
   "cell_type": "code",
   "execution_count": 35,
   "id": "c600b927",
   "metadata": {},
   "outputs": [
    {
     "name": "stdout",
     "output_type": "stream",
     "text": [
      " * sqlite://\n",
      "(sqlite3.OperationalError) table weather already exists\n",
      "[SQL: CREATE TABLE weather( City varchar(50),\n",
      "    Country varchar(50),\n",
      "    Season varchar(50), Temp float,\n",
      "    Rainfall float);]\n",
      "(Background on this error at: http://sqlalche.me/e/14/e3q8)\n"
     ]
    }
   ],
   "source": [
    "# Creating a Table:\n",
    "\n",
    "%%sql\n",
    "CREATE TABLE weather(\n",
    "    City varchar(50),\n",
    "    Country varchar(50),\n",
    "    Season varchar(50), Temp float,\n",
    "    Rainfall float);\n"
   ]
  },
  {
   "cell_type": "code",
   "execution_count": 39,
   "id": "3d3c68f2",
   "metadata": {},
   "outputs": [
    {
     "name": "stdout",
     "output_type": "stream",
     "text": [
      " * sqlite://\n",
      "Done.\n"
     ]
    },
    {
     "data": {
      "text/html": [
       "<table>\n",
       "    <tr>\n",
       "        <th>City</th>\n",
       "        <th>Country</th>\n",
       "        <th>Season</th>\n",
       "        <th>Temp</th>\n",
       "        <th>Rainfall</th>\n",
       "    </tr>\n",
       "    <tr>\n",
       "        <td>Mumbai</td>\n",
       "        <td>India</td>\n",
       "        <td>Winter</td>\n",
       "        <td>24.8</td>\n",
       "        <td>5.9</td>\n",
       "    </tr>\n",
       "    <tr>\n",
       "        <td>Mumbai</td>\n",
       "        <td>India</td>\n",
       "        <td>Spring</td>\n",
       "        <td>28.4</td>\n",
       "        <td>16.2</td>\n",
       "    </tr>\n",
       "    <tr>\n",
       "        <td>Mumbai</td>\n",
       "        <td>India</td>\n",
       "        <td>Summer</td>\n",
       "        <td>27.9</td>\n",
       "        <td>1549.4</td>\n",
       "    </tr>\n",
       "    <tr>\n",
       "        <td>Mumbai</td>\n",
       "        <td>India</td>\n",
       "        <td>Fall</td>\n",
       "        <td>27.9</td>\n",
       "        <td>346.0</td>\n",
       "    </tr>\n",
       "    <tr>\n",
       "        <td>London</td>\n",
       "        <td>United Kingdom</td>\n",
       "        <td>Winter</td>\n",
       "        <td>4.2</td>\n",
       "        <td>207.7</td>\n",
       "    </tr>\n",
       "    <tr>\n",
       "        <td>London</td>\n",
       "        <td>United Kingdom</td>\n",
       "        <td>Spring</td>\n",
       "        <td>8.3</td>\n",
       "        <td>169.6</td>\n",
       "    </tr>\n",
       "    <tr>\n",
       "        <td>London</td>\n",
       "        <td>United Kingdom</td>\n",
       "        <td>Summer</td>\n",
       "        <td>15.7</td>\n",
       "        <td>157.0</td>\n",
       "    </tr>\n",
       "    <tr>\n",
       "        <td>London</td>\n",
       "        <td>United Kingdom</td>\n",
       "        <td>Fall</td>\n",
       "        <td>10.9</td>\n",
       "        <td>218.5</td>\n",
       "    </tr>\n",
       "    <tr>\n",
       "        <td>Cairo</td>\n",
       "        <td>Egypt</td>\n",
       "        <td>Winter</td>\n",
       "        <td>13.6</td>\n",
       "        <td>16.5</td>\n",
       "    </tr>\n",
       "    <tr>\n",
       "        <td>Cairo</td>\n",
       "        <td>Egypt</td>\n",
       "        <td>Spring</td>\n",
       "        <td>20.7</td>\n",
       "        <td>6.5</td>\n",
       "    </tr>\n",
       "    <tr>\n",
       "        <td>Cairo</td>\n",
       "        <td>Egypt</td>\n",
       "        <td>Summer</td>\n",
       "        <td>27.7</td>\n",
       "        <td>0.1</td>\n",
       "    </tr>\n",
       "    <tr>\n",
       "        <td>Cairo</td>\n",
       "        <td>Egypt</td>\n",
       "        <td>Fall</td>\n",
       "        <td>22.2</td>\n",
       "        <td>4.5</td>\n",
       "    </tr>\n",
       "</table>"
      ],
      "text/plain": [
       "[('Mumbai', 'India', 'Winter', 24.8, 5.9),\n",
       " ('Mumbai', 'India', 'Spring', 28.4, 16.2),\n",
       " ('Mumbai', 'India', 'Summer', 27.9, 1549.4),\n",
       " ('Mumbai', 'India', 'Fall', 27.9, 346.0),\n",
       " ('London', 'United Kingdom', 'Winter', 4.2, 207.7),\n",
       " ('London', 'United Kingdom', 'Spring', 8.3, 169.6),\n",
       " ('London', 'United Kingdom', 'Summer', 15.7, 157.0),\n",
       " ('London', 'United Kingdom', 'Fall', 10.9, 218.5),\n",
       " ('Cairo', 'Egypt', 'Winter', 13.6, 16.5),\n",
       " ('Cairo', 'Egypt', 'Spring', 20.7, 6.5),\n",
       " ('Cairo', 'Egypt', 'Summer', 27.7, 0.1),\n",
       " ('Cairo', 'Egypt', 'Fall', 22.2, 4.5)]"
      ]
     },
     "execution_count": 39,
     "metadata": {},
     "output_type": "execute_result"
    }
   ],
   "source": [
    "# Inserted the rows using Insert into table_name values (column_values)\n",
    "# Displaying the entire dataset\n",
    "\n",
    "%sql SELECT * FROM weather;"
   ]
  },
  {
   "cell_type": "code",
   "execution_count": 40,
   "id": "46733bb8",
   "metadata": {},
   "outputs": [
    {
     "name": "stdout",
     "output_type": "stream",
     "text": [
      " * sqlite://\n",
      "Done.\n"
     ]
    },
    {
     "data": {
      "text/html": [
       "<table>\n",
       "    <tr>\n",
       "        <th>Temp</th>\n",
       "    </tr>\n",
       "    <tr>\n",
       "        <td>24.8</td>\n",
       "    </tr>\n",
       "    <tr>\n",
       "        <td>28.4</td>\n",
       "    </tr>\n",
       "    <tr>\n",
       "        <td>27.9</td>\n",
       "    </tr>\n",
       "    <tr>\n",
       "        <td>27.9</td>\n",
       "    </tr>\n",
       "    <tr>\n",
       "        <td>4.2</td>\n",
       "    </tr>\n",
       "    <tr>\n",
       "        <td>8.3</td>\n",
       "    </tr>\n",
       "    <tr>\n",
       "        <td>15.7</td>\n",
       "    </tr>\n",
       "    <tr>\n",
       "        <td>10.9</td>\n",
       "    </tr>\n",
       "    <tr>\n",
       "        <td>13.6</td>\n",
       "    </tr>\n",
       "    <tr>\n",
       "        <td>20.7</td>\n",
       "    </tr>\n",
       "    <tr>\n",
       "        <td>27.7</td>\n",
       "    </tr>\n",
       "    <tr>\n",
       "        <td>22.2</td>\n",
       "    </tr>\n",
       "</table>"
      ],
      "text/plain": [
       "[(24.8,),\n",
       " (28.4,),\n",
       " (27.9,),\n",
       " (27.9,),\n",
       " (4.2,),\n",
       " (8.3,),\n",
       " (15.7,),\n",
       " (10.9,),\n",
       " (13.6,),\n",
       " (20.7,),\n",
       " (27.7,),\n",
       " (22.2,)]"
      ]
     },
     "execution_count": 40,
     "metadata": {},
     "output_type": "execute_result"
    }
   ],
   "source": [
    "# All Temperature Data\n",
    "\n",
    "%sql SELECT Temp FROM weather;"
   ]
  },
  {
   "cell_type": "code",
   "execution_count": 41,
   "id": "aa4b9159",
   "metadata": {},
   "outputs": [
    {
     "name": "stdout",
     "output_type": "stream",
     "text": [
      " * sqlite://\n",
      "Done.\n"
     ]
    },
    {
     "data": {
      "text/html": [
       "<table>\n",
       "    <tr>\n",
       "        <th>City</th>\n",
       "    </tr>\n",
       "    <tr>\n",
       "        <td>Mumbai</td>\n",
       "    </tr>\n",
       "    <tr>\n",
       "        <td>London</td>\n",
       "    </tr>\n",
       "    <tr>\n",
       "        <td>Cairo</td>\n",
       "    </tr>\n",
       "</table>"
      ],
      "text/plain": [
       "[('Mumbai',), ('London',), ('Cairo',)]"
      ]
     },
     "execution_count": 41,
     "metadata": {},
     "output_type": "execute_result"
    }
   ],
   "source": [
    "# All the cities, but without repetition.\n",
    "\n",
    "%sql SELECT DISTINCT City FROM weather;"
   ]
  },
  {
   "cell_type": "code",
   "execution_count": 42,
   "id": "f77eecfc",
   "metadata": {},
   "outputs": [
    {
     "name": "stdout",
     "output_type": "stream",
     "text": [
      " * sqlite://\n",
      "Done.\n"
     ]
    },
    {
     "data": {
      "text/html": [
       "<table>\n",
       "    <tr>\n",
       "        <th>City</th>\n",
       "        <th>Country</th>\n",
       "        <th>Season</th>\n",
       "        <th>Temp</th>\n",
       "        <th>Rainfall</th>\n",
       "    </tr>\n",
       "    <tr>\n",
       "        <td>Mumbai</td>\n",
       "        <td>India</td>\n",
       "        <td>Winter</td>\n",
       "        <td>24.8</td>\n",
       "        <td>5.9</td>\n",
       "    </tr>\n",
       "    <tr>\n",
       "        <td>Mumbai</td>\n",
       "        <td>India</td>\n",
       "        <td>Spring</td>\n",
       "        <td>28.4</td>\n",
       "        <td>16.2</td>\n",
       "    </tr>\n",
       "    <tr>\n",
       "        <td>Mumbai</td>\n",
       "        <td>India</td>\n",
       "        <td>Summer</td>\n",
       "        <td>27.9</td>\n",
       "        <td>1549.4</td>\n",
       "    </tr>\n",
       "    <tr>\n",
       "        <td>Mumbai</td>\n",
       "        <td>India</td>\n",
       "        <td>Fall</td>\n",
       "        <td>27.9</td>\n",
       "        <td>346.0</td>\n",
       "    </tr>\n",
       "</table>"
      ],
      "text/plain": [
       "[('Mumbai', 'India', 'Winter', 24.8, 5.9),\n",
       " ('Mumbai', 'India', 'Spring', 28.4, 16.2),\n",
       " ('Mumbai', 'India', 'Summer', 27.9, 1549.4),\n",
       " ('Mumbai', 'India', 'Fall', 27.9, 346.0)]"
      ]
     },
     "execution_count": 42,
     "metadata": {},
     "output_type": "execute_result"
    }
   ],
   "source": [
    "# All the records for India\n",
    "\n",
    "%sql SELECT * FROM weather WHERE Country='India';"
   ]
  },
  {
   "cell_type": "code",
   "execution_count": 43,
   "id": "4dbb8a51",
   "metadata": {},
   "outputs": [
    {
     "name": "stdout",
     "output_type": "stream",
     "text": [
      " * sqlite://\n",
      "Done.\n"
     ]
    },
    {
     "data": {
      "text/html": [
       "<table>\n",
       "    <tr>\n",
       "        <th>City</th>\n",
       "        <th>Country</th>\n",
       "        <th>Season</th>\n",
       "        <th>Temp</th>\n",
       "        <th>Rainfall</th>\n",
       "    </tr>\n",
       "    <tr>\n",
       "        <td>Mumbai</td>\n",
       "        <td>India</td>\n",
       "        <td>Fall</td>\n",
       "        <td>27.9</td>\n",
       "        <td>346.0</td>\n",
       "    </tr>\n",
       "    <tr>\n",
       "        <td>London</td>\n",
       "        <td>United Kingdom</td>\n",
       "        <td>Fall</td>\n",
       "        <td>10.9</td>\n",
       "        <td>218.5</td>\n",
       "    </tr>\n",
       "    <tr>\n",
       "        <td>Cairo</td>\n",
       "        <td>Egypt</td>\n",
       "        <td>Fall</td>\n",
       "        <td>22.2</td>\n",
       "        <td>4.5</td>\n",
       "    </tr>\n",
       "</table>"
      ],
      "text/plain": [
       "[('Mumbai', 'India', 'Fall', 27.9, 346.0),\n",
       " ('London', 'United Kingdom', 'Fall', 10.9, 218.5),\n",
       " ('Cairo', 'Egypt', 'Fall', 22.2, 4.5)]"
      ]
     },
     "execution_count": 43,
     "metadata": {},
     "output_type": "execute_result"
    }
   ],
   "source": [
    "# All the Fall records\n",
    "\n",
    "%sql SELECT * FROM weather WHERE Season='Fall';"
   ]
  },
  {
   "cell_type": "code",
   "execution_count": 44,
   "id": "74589400",
   "metadata": {},
   "outputs": [
    {
     "name": "stdout",
     "output_type": "stream",
     "text": [
      " * sqlite://\n",
      "Done.\n"
     ]
    },
    {
     "data": {
      "text/html": [
       "<table>\n",
       "    <tr>\n",
       "        <th>City</th>\n",
       "        <th>Country</th>\n",
       "        <th>Season</th>\n",
       "    </tr>\n",
       "    <tr>\n",
       "        <td>Mumbai</td>\n",
       "        <td>India</td>\n",
       "        <td>Fall</td>\n",
       "    </tr>\n",
       "    <tr>\n",
       "        <td>London</td>\n",
       "        <td>United Kingdom</td>\n",
       "        <td>Winter</td>\n",
       "    </tr>\n",
       "    <tr>\n",
       "        <td>London</td>\n",
       "        <td>United Kingdom</td>\n",
       "        <td>Fall</td>\n",
       "    </tr>\n",
       "</table>"
      ],
      "text/plain": [
       "[('Mumbai', 'India', 'Fall'),\n",
       " ('London', 'United Kingdom', 'Winter'),\n",
       " ('London', 'United Kingdom', 'Fall')]"
      ]
     },
     "execution_count": 44,
     "metadata": {},
     "output_type": "execute_result"
    }
   ],
   "source": [
    "# The city, country, and season for which the average rainfall is between 200\n",
    "# and 400 millimeters.\n",
    "\n",
    "%sql SELECT City,Country,Season FROM weather WHERE Rainfall>200 AND Rainfall<400;"
   ]
  },
  {
   "cell_type": "code",
   "execution_count": 45,
   "id": "c21165b3",
   "metadata": {},
   "outputs": [
    {
     "name": "stdout",
     "output_type": "stream",
     "text": [
      " * sqlite://\n",
      "Done.\n"
     ]
    },
    {
     "data": {
      "text/html": [
       "<table>\n",
       "    <tr>\n",
       "        <th>City</th>\n",
       "        <th>Country</th>\n",
       "        <th>Temp</th>\n",
       "    </tr>\n",
       "    <tr>\n",
       "        <td>Cairo</td>\n",
       "        <td>Egypt</td>\n",
       "        <td>20.7</td>\n",
       "    </tr>\n",
       "    <tr>\n",
       "        <td>Cairo</td>\n",
       "        <td>Egypt</td>\n",
       "        <td>22.2</td>\n",
       "    </tr>\n",
       "    <tr>\n",
       "        <td>Mumbai</td>\n",
       "        <td>India</td>\n",
       "        <td>24.8</td>\n",
       "    </tr>\n",
       "    <tr>\n",
       "        <td>Cairo</td>\n",
       "        <td>Egypt</td>\n",
       "        <td>27.7</td>\n",
       "    </tr>\n",
       "    <tr>\n",
       "        <td>Mumbai</td>\n",
       "        <td>India</td>\n",
       "        <td>27.9</td>\n",
       "    </tr>\n",
       "    <tr>\n",
       "        <td>Mumbai</td>\n",
       "        <td>India</td>\n",
       "        <td>27.9</td>\n",
       "    </tr>\n",
       "    <tr>\n",
       "        <td>Mumbai</td>\n",
       "        <td>India</td>\n",
       "        <td>28.4</td>\n",
       "    </tr>\n",
       "</table>"
      ],
      "text/plain": [
       "[('Cairo', 'Egypt', 20.7),\n",
       " ('Cairo', 'Egypt', 22.2),\n",
       " ('Mumbai', 'India', 24.8),\n",
       " ('Cairo', 'Egypt', 27.7),\n",
       " ('Mumbai', 'India', 27.9),\n",
       " ('Mumbai', 'India', 27.9),\n",
       " ('Mumbai', 'India', 28.4)]"
      ]
     },
     "execution_count": 45,
     "metadata": {},
     "output_type": "execute_result"
    }
   ],
   "source": [
    "# The city and country for which the average Fall temperature is above 20\n",
    "# degrees, in increasing temperature order.\n",
    "\n",
    "%sql SELECT City,Country, Temp FROM weather WHERE Temp>20 ORDER BY Temp;\n",
    "# By default ordered in Ascending order."
   ]
  },
  {
   "cell_type": "code",
   "execution_count": 46,
   "id": "7ca266e5",
   "metadata": {},
   "outputs": [
    {
     "name": "stdout",
     "output_type": "stream",
     "text": [
      " * sqlite://\n",
      "Done.\n"
     ]
    },
    {
     "data": {
      "text/html": [
       "<table>\n",
       "    <tr>\n",
       "        <th>SUM(Rainfall)</th>\n",
       "    </tr>\n",
       "    <tr>\n",
       "        <td>27.6</td>\n",
       "    </tr>\n",
       "</table>"
      ],
      "text/plain": [
       "[(27.6,)]"
      ]
     },
     "execution_count": 46,
     "metadata": {},
     "output_type": "execute_result"
    }
   ],
   "source": [
    "# The total annual rainfall for Cairo.\n",
    "\n",
    "%sql SELECT SUM(Rainfall) FROM weather WHERE City='Cairo';"
   ]
  },
  {
   "cell_type": "code",
   "execution_count": 47,
   "id": "d2271ea6",
   "metadata": {},
   "outputs": [
    {
     "name": "stdout",
     "output_type": "stream",
     "text": [
      " * sqlite://\n",
      "Done.\n"
     ]
    },
    {
     "data": {
      "text/html": [
       "<table>\n",
       "    <tr>\n",
       "        <th>Season</th>\n",
       "        <th>SUM(Rainfall)</th>\n",
       "    </tr>\n",
       "    <tr>\n",
       "        <td>Fall</td>\n",
       "        <td>569.0</td>\n",
       "    </tr>\n",
       "    <tr>\n",
       "        <td>Spring</td>\n",
       "        <td>192.29999999999998</td>\n",
       "    </tr>\n",
       "    <tr>\n",
       "        <td>Summer</td>\n",
       "        <td>1706.5</td>\n",
       "    </tr>\n",
       "    <tr>\n",
       "        <td>Winter</td>\n",
       "        <td>230.1</td>\n",
       "    </tr>\n",
       "</table>"
      ],
      "text/plain": [
       "[('Fall', 569.0),\n",
       " ('Spring', 192.29999999999998),\n",
       " ('Summer', 1706.5),\n",
       " ('Winter', 230.1)]"
      ]
     },
     "execution_count": 47,
     "metadata": {},
     "output_type": "execute_result"
    }
   ],
   "source": [
    "# The total rainfall for each season.\n",
    "\n",
    "%sql SELECT Season, SUM(Rainfall) FROM weather GROUP BY Season; "
   ]
  },
  {
   "cell_type": "markdown",
   "id": "e5c032c3",
   "metadata": {},
   "source": [
    "  "
   ]
  },
  {
   "cell_type": "markdown",
   "id": "8e39c040",
   "metadata": {},
   "source": [
    "Question 9:"
   ]
  },
  {
   "cell_type": "code",
   "execution_count": 49,
   "id": "f91eef45",
   "metadata": {},
   "outputs": [],
   "source": [
    "# Write list comprehension expressions that use list words and generate the following\n",
    "# lists:"
   ]
  },
  {
   "cell_type": "code",
   "execution_count": 51,
   "id": "cf5997ce",
   "metadata": {},
   "outputs": [],
   "source": [
    "words = ['The', 'quick', 'brown', 'fox', 'jumps', 'over','the', 'lazy', 'dog']"
   ]
  },
  {
   "cell_type": "code",
   "execution_count": 52,
   "id": "b2a9eb27",
   "metadata": {},
   "outputs": [
    {
     "data": {
      "text/plain": [
       "['THE', 'QUICK', 'BROWN', 'FOX', 'JUMPS', 'OVER', 'THE', 'LAZY', 'DOG']"
      ]
     },
     "execution_count": 52,
     "metadata": {},
     "output_type": "execute_result"
    }
   ],
   "source": [
    "# a) ['THE', 'QUICK', 'BROWN', 'FOX', 'JUMPS', 'OVER', 'THE','LAZY', 'DOG']\n",
    "output = [elt.upper() for elt in words]\n",
    "output"
   ]
  },
  {
   "cell_type": "code",
   "execution_count": 53,
   "id": "e0a2119a",
   "metadata": {},
   "outputs": [
    {
     "data": {
      "text/plain": [
       "['the', 'quick', 'brown', 'fox', 'jumps', 'over', 'the', 'lazy', 'dog']"
      ]
     },
     "execution_count": 53,
     "metadata": {},
     "output_type": "execute_result"
    }
   ],
   "source": [
    "# b) ['the', 'quick', 'brown', 'fox', 'jumps', 'over', 'the','lazy', 'dog']\n",
    "output = [elt.lower() for elt in words]\n",
    "output"
   ]
  },
  {
   "cell_type": "code",
   "execution_count": 55,
   "id": "32b83afc",
   "metadata": {},
   "outputs": [
    {
     "data": {
      "text/plain": [
       "[3, 5, 5, 3, 5, 4, 3, 4, 3]"
      ]
     },
     "execution_count": 55,
     "metadata": {},
     "output_type": "execute_result"
    }
   ],
   "source": [
    "# c) [3, 5, 5, 3, 5, 4, 3, 4, 3] (the list of lengths of words in list words).\n",
    "output = [len(elt) for elt in words]\n",
    "output"
   ]
  },
  {
   "cell_type": "code",
   "execution_count": 56,
   "id": "00e2792d",
   "metadata": {},
   "outputs": [
    {
     "data": {
      "text/plain": [
       "[['THE', 'the', 3],\n",
       " ['QUICK', 'quick', 5],\n",
       " ['BROWN', 'brown', 5],\n",
       " ['FOX', 'fox', 3],\n",
       " ['JUMPS', 'jumps', 5],\n",
       " ['OVER', 'over', 4],\n",
       " ['THE', 'the', 3],\n",
       " ['LAZY', 'lazy', 4],\n",
       " ['DOG', 'dog', 3]]"
      ]
     },
     "execution_count": 56,
     "metadata": {},
     "output_type": "execute_result"
    }
   ],
   "source": [
    "# d) [['THE', 'the', 3], ['QUICK', 'quick', 5], ['BROWN','brown', 5], ['FOX', 'fox', 3], ['JUMPS', 'jumps', 5],\n",
    "# ['OVER', 'over', 4], ['THE', 'the', 3], ['LAZY', 'lazy',4], ['DOG', 'dog', 3]] \n",
    "# (the list containing a list for every word of list words, where each list contains the word in\n",
    "# uppercase and lowercase and the length of the word.)\n",
    "\n",
    "output = [[elt.upper(),elt.lower(),len(elt)] for elt in words]\n",
    "output"
   ]
  },
  {
   "cell_type": "code",
   "execution_count": 59,
   "id": "4da39774",
   "metadata": {},
   "outputs": [
    {
     "data": {
      "text/plain": [
       "['quick', 'brown', 'jumps', 'over', 'lazy']"
      ]
     },
     "execution_count": 59,
     "metadata": {},
     "output_type": "execute_result"
    }
   ],
   "source": [
    "# e) Containing elt of length 4 or more\n",
    "output = [elt for elt in words if len(elt)>3]\n",
    "output"
   ]
  },
  {
   "cell_type": "markdown",
   "id": "6ef208b1",
   "metadata": {},
   "source": [
    "  "
   ]
  },
  {
   "cell_type": "markdown",
   "id": "6efde741",
   "metadata": {},
   "source": [
    "Thank You"
   ]
  },
  {
   "cell_type": "code",
   "execution_count": null,
   "id": "6b07d773",
   "metadata": {},
   "outputs": [],
   "source": []
  }
 ],
 "metadata": {
  "kernelspec": {
   "display_name": "Python 3",
   "language": "python",
   "name": "python3"
  },
  "language_info": {
   "codemirror_mode": {
    "name": "ipython",
    "version": 3
   },
   "file_extension": ".py",
   "mimetype": "text/x-python",
   "name": "python",
   "nbconvert_exporter": "python",
   "pygments_lexer": "ipython3",
   "version": "3.8.8"
  }
 },
 "nbformat": 4,
 "nbformat_minor": 5
}
